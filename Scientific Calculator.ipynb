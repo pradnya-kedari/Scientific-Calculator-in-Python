{
 "cells": [
  {
   "cell_type": "code",
   "execution_count": 5,
   "metadata": {},
   "outputs": [
    {
     "name": "stdout",
     "output_type": "stream",
     "text": [
      "Collecting Tk\n",
      "  Downloading tk-0.1.0-py3-none-any.whl (3.9 kB)\n",
      "Installing collected packages: Tk\n",
      "Successfully installed Tk-0.1.0\n"
     ]
    }
   ],
   "source": [
    "#!pip install Tk"
   ]
  },
  {
   "cell_type": "code",
   "execution_count": 2,
   "metadata": {},
   "outputs": [],
   "source": [
    "from tkinter import Tk\n",
    "from tkinter import StringVar,Entry,Button\n",
    "from math import pi,e,sin,cos,tan,log,log10,ceil,degrees,radians,exp,asin,acos,floor\n"
   ]
  },
  {
   "cell_type": "code",
   "execution_count": 3,
   "metadata": {},
   "outputs": [
    {
     "data": {
      "text/plain": [
       "<__main__.calculator at 0x24c10736888>"
      ]
     },
     "execution_count": 3,
     "metadata": {},
     "output_type": "execute_result"
    }
   ],
   "source": [
    "\n",
    "class calculator:\n",
    "    def __init__(self):\n",
    "        window=Tk()\n",
    "        window.title('Scientific Calculator')\n",
    "        window.configure(background=\"#104a8e\")\n",
    "        self.string=StringVar()\n",
    "        entry=Entry(window,textvariable=self.string)\n",
    "        entry.grid(row=0,column=0,columnspan=6)\n",
    "        entry.configure(background=\"#1b7ced\")\n",
    "        entry.focus()\n",
    "        \n",
    "        values=[\"7\",\"8\",\"9\",\"/\",\"%\",\"clear\",\"AC\",\n",
    "                \"4\",\"5\",\"6\",\"*\",\"(\",\")\",\"**\",\n",
    "                \"1\",\"2\",\"3\",\"-\",\"=\",\",\",\"0\",\".\",\"min\",\"+\",\"sin\",\"asin\",\"cos\",\"acos\",\"tan()\",\n",
    "                \"pow\",\"log10\",\"max\",\"abs\",\"floor\",\"pi\",\"e\",\"log\",\"ceil\",\"degrees\",\"radians\"]\n",
    "        text=1\n",
    "        i=0\n",
    "        row=1\n",
    "        col=0\n",
    "        for txt in values:\n",
    "            padx=10\n",
    "            pady=10\n",
    "            if(i==7):\n",
    "                row=2\n",
    "                col=0\n",
    "            if(i==14):\n",
    "                row=3\n",
    "                col=0\n",
    "            if(i==19):\n",
    "                row=4\n",
    "                col=0\n",
    "            if(i==26):\n",
    "                row=5\n",
    "                col=0\n",
    "            if(i==33):\n",
    "                row=6\n",
    "                col=0\n",
    "            if(txt=='='):\n",
    "                btn=Button(window,height=2,width=4,padx=70,pady=pady,text=txt,command=lambda txt=txt:self.equals())\n",
    "                btn.grid(row=row,column=col,columnspan=3,padx=2,pady=2)\n",
    "                btn.configure(background=\"yellow\")\n",
    "\n",
    "            elif(txt=='clear'):\n",
    "                btn=Button(window,height=2,width=4,padx=padx,pady=pady, text=txt ,command=lambda txt=txt:self.delete())\n",
    "                btn.grid(row=row,column=col,padx=1,pady=1)\n",
    "                btn.configure(background=\"grey\")\n",
    "            elif(txt=='AC'):\n",
    "                btn=Button(window,height=2,width=4,padx=padx,pady=pady,text=txt,command=lambda txt=txt:self.clearall())\n",
    "                btn.grid(row=row,column=col,padx=1,pady=1)\n",
    "                btn.configure(background=\"red\")\n",
    "            else:\n",
    "                btn=Button(window,height=2,width=4,padx=padx,pady=pady,text=txt ,command=lambda txt=txt:self.addChar(txt))\n",
    "                btn.grid(row=row,column=col,padx=1,pady=1)\n",
    "                btn.configure(background=\"#003d7a\")\n",
    "\n",
    "            col=col+1\n",
    "            i=i+1\n",
    "        window.mainloop()\n",
    "        \n",
    "\n",
    "    def clearall(self):\n",
    "        self.string.set(\"\")\n",
    "\n",
    "    def equals(self):\n",
    "        result=\"\"\n",
    "\n",
    "        try:\n",
    "            result=eval(self.string.get())\n",
    "            self.string.set(result)\n",
    "        except:\n",
    "            result=\"INVALID INPUT\"\n",
    "        self.string.set(result)\n",
    "        \n",
    "    def addChar(self,char):\n",
    "        self.string.set(self.string.get()+(str(char)))\n",
    "        \n",
    "    def delete(self):\n",
    "        self.string.set(self.string.get()[0:-1])\n",
    "           \n",
    "calculator()\n",
    "\n",
    "  \n",
    "        \n"
   ]
  },
  {
   "cell_type": "code",
   "execution_count": null,
   "metadata": {},
   "outputs": [],
   "source": []
  }
 ],
 "metadata": {
  "kernelspec": {
   "display_name": "Python 3",
   "language": "python",
   "name": "python3"
  },
  "language_info": {
   "codemirror_mode": {
    "name": "ipython",
    "version": 3
   },
   "file_extension": ".py",
   "mimetype": "text/x-python",
   "name": "python",
   "nbconvert_exporter": "python",
   "pygments_lexer": "ipython3",
   "version": "3.7.7"
  }
 },
 "nbformat": 4,
 "nbformat_minor": 4
}
